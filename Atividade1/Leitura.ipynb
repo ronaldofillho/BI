{
 "cells": [
  {
   "cell_type": "code",
   "execution_count": 1,
   "metadata": {},
   "outputs": [],
   "source": [
    "import pandas as pd"
   ]
  },
  {
   "cell_type": "code",
   "execution_count": 8,
   "metadata": {},
   "outputs": [
    {
     "data": {
      "text/plain": [
       "2172"
      ]
     },
     "execution_count": 8,
     "metadata": {},
     "output_type": "execute_result"
    }
   ],
   "source": [
    "vendasglobais = pd.read_csv('Dados/VendasGlobais.csv')\n",
    "vendasglobais = vendasglobais.dropna(axis=0, how='all')\n",
    "len(vendasglobais.axes[0])"
   ]
  },
  {
   "cell_type": "code",
   "execution_count": 12,
   "metadata": {},
   "outputs": [
    {
     "data": {
      "text/html": [
       "<div>\n",
       "<style scoped>\n",
       "    .dataframe tbody tr th:only-of-type {\n",
       "        vertical-align: middle;\n",
       "    }\n",
       "\n",
       "    .dataframe tbody tr th {\n",
       "        vertical-align: top;\n",
       "    }\n",
       "\n",
       "    .dataframe thead th {\n",
       "        text-align: right;\n",
       "    }\n",
       "</style>\n",
       "<table border=\"1\" class=\"dataframe\">\n",
       "  <thead>\n",
       "    <tr style=\"text-align: right;\">\n",
       "      <th></th>\n",
       "      <th>0</th>\n",
       "    </tr>\n",
       "  </thead>\n",
       "  <tbody>\n",
       "    <tr>\n",
       "      <th>PedidoID</th>\n",
       "      <td>float64</td>\n",
       "    </tr>\n",
       "    <tr>\n",
       "      <th>CategoriaID</th>\n",
       "      <td>float64</td>\n",
       "    </tr>\n",
       "    <tr>\n",
       "      <th>CategoriaNome</th>\n",
       "      <td>object</td>\n",
       "    </tr>\n",
       "    <tr>\n",
       "      <th>CategoriaDescrição</th>\n",
       "      <td>object</td>\n",
       "    </tr>\n",
       "    <tr>\n",
       "      <th>ClienteID</th>\n",
       "      <td>float64</td>\n",
       "    </tr>\n",
       "    <tr>\n",
       "      <th>ClienteNome</th>\n",
       "      <td>object</td>\n",
       "    </tr>\n",
       "    <tr>\n",
       "      <th>ClienteContato</th>\n",
       "      <td>object</td>\n",
       "    </tr>\n",
       "    <tr>\n",
       "      <th>ClienteCidade</th>\n",
       "      <td>object</td>\n",
       "    </tr>\n",
       "    <tr>\n",
       "      <th>ClientePaísID</th>\n",
       "      <td>object</td>\n",
       "    </tr>\n",
       "    <tr>\n",
       "      <th>ClientePaís</th>\n",
       "      <td>object</td>\n",
       "    </tr>\n",
       "    <tr>\n",
       "      <th>Vendas Custo</th>\n",
       "      <td>float64</td>\n",
       "    </tr>\n",
       "    <tr>\n",
       "      <th>Margem Bruta</th>\n",
       "      <td>float64</td>\n",
       "    </tr>\n",
       "    <tr>\n",
       "      <th>Vendas</th>\n",
       "      <td>float64</td>\n",
       "    </tr>\n",
       "    <tr>\n",
       "      <th>Desconto</th>\n",
       "      <td>float64</td>\n",
       "    </tr>\n",
       "    <tr>\n",
       "      <th>Frete</th>\n",
       "      <td>float64</td>\n",
       "    </tr>\n",
       "    <tr>\n",
       "      <th>Qtde</th>\n",
       "      <td>float64</td>\n",
       "    </tr>\n",
       "    <tr>\n",
       "      <th>Data</th>\n",
       "      <td>object</td>\n",
       "    </tr>\n",
       "    <tr>\n",
       "      <th>VendedorID</th>\n",
       "      <td>float64</td>\n",
       "    </tr>\n",
       "    <tr>\n",
       "      <th>ProdutoID</th>\n",
       "      <td>float64</td>\n",
       "    </tr>\n",
       "    <tr>\n",
       "      <th>ProdutoNome</th>\n",
       "      <td>object</td>\n",
       "    </tr>\n",
       "    <tr>\n",
       "      <th>TransportadoraID</th>\n",
       "      <td>float64</td>\n",
       "    </tr>\n",
       "    <tr>\n",
       "      <th>FornecedorID</th>\n",
       "      <td>float64</td>\n",
       "    </tr>\n",
       "  </tbody>\n",
       "</table>\n",
       "</div>"
      ],
      "text/plain": [
       "                          0\n",
       "PedidoID            float64\n",
       "CategoriaID         float64\n",
       "CategoriaNome        object\n",
       "CategoriaDescrição   object\n",
       "ClienteID           float64\n",
       "ClienteNome          object\n",
       "ClienteContato       object\n",
       "ClienteCidade        object\n",
       "ClientePaísID        object\n",
       "ClientePaís          object\n",
       "Vendas Custo        float64\n",
       "Margem Bruta        float64\n",
       "Vendas              float64\n",
       "Desconto            float64\n",
       "Frete               float64\n",
       "Qtde                float64\n",
       "Data                 object\n",
       "VendedorID          float64\n",
       "ProdutoID           float64\n",
       "ProdutoNome          object\n",
       "TransportadoraID    float64\n",
       "FornecedorID        float64"
      ]
     },
     "execution_count": 12,
     "metadata": {},
     "output_type": "execute_result"
    }
   ],
   "source": [
    "pd.DataFrame(vendasglobais.dtypes)"
   ]
  },
  {
   "cell_type": "code",
   "execution_count": 13,
   "metadata": {},
   "outputs": [
    {
     "data": {
      "text/plain": [
       "0     417.5107\n",
       "1      63.8885\n",
       "2     961.5917\n",
       "3    1354.1170\n",
       "4    4810.2163\n",
       "5    5985.2808\n",
       "6     121.7160\n",
       "7     298.4112\n",
       "8    1005.8544\n",
       "9     113.2488\n",
       "Name: Vendas Custo, dtype: float64"
      ]
     },
     "execution_count": 13,
     "metadata": {},
     "output_type": "execute_result"
    }
   ],
   "source": [
    "vendasglobais['Vendas Custo'].head(10)"
   ]
  },
  {
   "cell_type": "code",
   "execution_count": 14,
   "metadata": {},
   "outputs": [
    {
     "data": {
      "text/plain": [
       "0      86.7293\n",
       "1      17.1295\n",
       "2     346.6963\n",
       "3     488.2190\n",
       "4     999.2237\n",
       "5    3050.4692\n",
       "6      43.8840\n",
       "7     152.0888\n",
       "8     208.9456\n",
       "9      40.8312\n",
       "Name: Margem Bruta, dtype: float64"
      ]
     },
     "execution_count": 14,
     "metadata": {},
     "output_type": "execute_result"
    }
   ],
   "source": [
    "vendasglobais['Margem Bruta'].head(10)"
   ]
  },
  {
   "cell_type": "code",
   "execution_count": 15,
   "metadata": {},
   "outputs": [
    {
     "data": {
      "text/plain": [
       "0     504.240\n",
       "1      81.018\n",
       "2    1308.288\n",
       "3    1842.336\n",
       "4    5809.440\n",
       "5    9035.750\n",
       "6     165.600\n",
       "7     450.500\n",
       "8    1214.800\n",
       "9     154.080\n",
       "Name: Vendas, dtype: float64"
      ]
     },
     "execution_count": 15,
     "metadata": {},
     "output_type": "execute_result"
    }
   ],
   "source": [
    "vendasglobais['Vendas'].head(10)"
   ]
  },
  {
   "cell_type": "code",
   "execution_count": 16,
   "metadata": {},
   "outputs": [
    {
     "data": {
      "text/plain": [
       "0       0.000\n",
       "1       3.858\n",
       "2     218.048\n",
       "3     307.056\n",
       "4       0.000\n",
       "5    1807.150\n",
       "6      27.600\n",
       "7      90.100\n",
       "8       0.000\n",
       "9      25.680\n",
       "Name: Desconto, dtype: float64"
      ]
     },
     "execution_count": 16,
     "metadata": {},
     "output_type": "execute_result"
    }
   ],
   "source": [
    "vendasglobais['Desconto'].head(10)"
   ]
  },
  {
   "cell_type": "code",
   "execution_count": 17,
   "metadata": {},
   "outputs": [
    {
     "data": {
      "text/plain": [
       "0    64.69\n",
       "1    53.28\n",
       "2    30.97\n",
       "3    76.90\n",
       "4    64.69\n",
       "5    23.12\n",
       "6    30.97\n",
       "7    23.12\n",
       "8    64.69\n",
       "9    76.90\n",
       "Name: Frete, dtype: float64"
      ]
     },
     "execution_count": 17,
     "metadata": {},
     "output_type": "execute_result"
    }
   ],
   "source": [
    "vendasglobais['Frete'].head(10)"
   ]
  },
  {
   "cell_type": "code",
   "execution_count": 18,
   "metadata": {},
   "outputs": [],
   "source": [
    "vendedores = pd.read_csv('Dados/Vendedores.csv')"
   ]
  },
  {
   "cell_type": "code",
   "execution_count": 19,
   "metadata": {},
   "outputs": [],
   "source": [
    "fornecedores = pd.read_csv('Dados/Fornecedores.csv')"
   ]
  },
  {
   "cell_type": "code",
   "execution_count": 20,
   "metadata": {},
   "outputs": [],
   "source": [
    "transportadoras = pd.read_csv('Dados/Transportadoras.csv')"
   ]
  },
  {
   "cell_type": "code",
   "execution_count": 21,
   "metadata": {},
   "outputs": [
    {
     "data": {
      "text/html": [
       "<div>\n",
       "<style scoped>\n",
       "    .dataframe tbody tr th:only-of-type {\n",
       "        vertical-align: middle;\n",
       "    }\n",
       "\n",
       "    .dataframe tbody tr th {\n",
       "        vertical-align: top;\n",
       "    }\n",
       "\n",
       "    .dataframe thead th {\n",
       "        text-align: right;\n",
       "    }\n",
       "</style>\n",
       "<table border=\"1\" class=\"dataframe\">\n",
       "  <thead>\n",
       "    <tr style=\"text-align: right;\">\n",
       "      <th></th>\n",
       "      <th>PedidoID</th>\n",
       "      <th>CategoriaID</th>\n",
       "      <th>CategoriaNome</th>\n",
       "      <th>CategoriaDescrição</th>\n",
       "      <th>ClienteID</th>\n",
       "      <th>ClienteNome</th>\n",
       "      <th>ClienteContato</th>\n",
       "      <th>ClienteCidade</th>\n",
       "      <th>ClientePaísID</th>\n",
       "      <th>ClientePaís</th>\n",
       "      <th>...</th>\n",
       "      <th>Qtde</th>\n",
       "      <th>Data</th>\n",
       "      <th>VendedorID</th>\n",
       "      <th>ProdutoID</th>\n",
       "      <th>ProdutoNome</th>\n",
       "      <th>TransportadoraID</th>\n",
       "      <th>FornecedorID</th>\n",
       "      <th>VendedorNome</th>\n",
       "      <th>FornecedorNome</th>\n",
       "      <th>TransportadoraNome</th>\n",
       "    </tr>\n",
       "  </thead>\n",
       "  <tbody>\n",
       "    <tr>\n",
       "      <th>0</th>\n",
       "      <td>10413.0</td>\n",
       "      <td>1.0</td>\n",
       "      <td>Men´s Clothes</td>\n",
       "      <td>Fashion for Men</td>\n",
       "      <td>41.0</td>\n",
       "      <td>Elle Fashion &amp; Design</td>\n",
       "      <td>Louise Davu</td>\n",
       "      <td>Toulouse</td>\n",
       "      <td>FRA</td>\n",
       "      <td>France</td>\n",
       "      <td>...</td>\n",
       "      <td>24.0</td>\n",
       "      <td>20/10/2010</td>\n",
       "      <td>5.0</td>\n",
       "      <td>1.0</td>\n",
       "      <td>Lenin Jeansshorts</td>\n",
       "      <td>1.0</td>\n",
       "      <td>1.0</td>\n",
       "      <td>Stefanos Tsitsipas</td>\n",
       "      <td>USA Jeans</td>\n",
       "      <td>General Shipping</td>\n",
       "    </tr>\n",
       "    <tr>\n",
       "      <th>1</th>\n",
       "      <td>10500.0</td>\n",
       "      <td>2.0</td>\n",
       "      <td>Womens wear</td>\n",
       "      <td>Fashion for Women</td>\n",
       "      <td>41.0</td>\n",
       "      <td>Elle Fashion &amp; Design</td>\n",
       "      <td>Louise Davu</td>\n",
       "      <td>Toulouse</td>\n",
       "      <td>FRA</td>\n",
       "      <td>France</td>\n",
       "      <td>...</td>\n",
       "      <td>12.0</td>\n",
       "      <td>14/04/2011</td>\n",
       "      <td>5.0</td>\n",
       "      <td>15.0</td>\n",
       "      <td>Sumi Underwear</td>\n",
       "      <td>1.0</td>\n",
       "      <td>6.0</td>\n",
       "      <td>Stefanos Tsitsipas</td>\n",
       "      <td>Surf Trip</td>\n",
       "      <td>General Shipping</td>\n",
       "    </tr>\n",
       "    <tr>\n",
       "      <th>2</th>\n",
       "      <td>10832.0</td>\n",
       "      <td>2.0</td>\n",
       "      <td>Womens wear</td>\n",
       "      <td>Fashion for Women</td>\n",
       "      <td>41.0</td>\n",
       "      <td>Elle Fashion &amp; Design</td>\n",
       "      <td>Louise Davu</td>\n",
       "      <td>Toulouse</td>\n",
       "      <td>FRA</td>\n",
       "      <td>France</td>\n",
       "      <td>...</td>\n",
       "      <td>16.0</td>\n",
       "      <td>19/11/2011</td>\n",
       "      <td>5.0</td>\n",
       "      <td>44.0</td>\n",
       "      <td>Okkaba Skin Jackets</td>\n",
       "      <td>1.0</td>\n",
       "      <td>20.0</td>\n",
       "      <td>Stefanos Tsitsipas</td>\n",
       "      <td>Wills Surfwear</td>\n",
       "      <td>General Shipping</td>\n",
       "    </tr>\n",
       "    <tr>\n",
       "      <th>3</th>\n",
       "      <td>10923.0</td>\n",
       "      <td>2.0</td>\n",
       "      <td>Womens wear</td>\n",
       "      <td>Fashion for Women</td>\n",
       "      <td>41.0</td>\n",
       "      <td>Elle Fashion &amp; Design</td>\n",
       "      <td>Louise Davu</td>\n",
       "      <td>Toulouse</td>\n",
       "      <td>FRA</td>\n",
       "      <td>France</td>\n",
       "      <td>...</td>\n",
       "      <td>24.0</td>\n",
       "      <td>05/06/2012</td>\n",
       "      <td>4.0</td>\n",
       "      <td>67.0</td>\n",
       "      <td>X-Dress</td>\n",
       "      <td>1.0</td>\n",
       "      <td>16.0</td>\n",
       "      <td>Patrick Mcenroe</td>\n",
       "      <td>L.A. Sports</td>\n",
       "      <td>General Shipping</td>\n",
       "    </tr>\n",
       "    <tr>\n",
       "      <th>4</th>\n",
       "      <td>10413.0</td>\n",
       "      <td>2.0</td>\n",
       "      <td>Womens wear</td>\n",
       "      <td>Fashion for Women</td>\n",
       "      <td>41.0</td>\n",
       "      <td>Elle Fashion &amp; Design</td>\n",
       "      <td>Louise Davu</td>\n",
       "      <td>Toulouse</td>\n",
       "      <td>FRA</td>\n",
       "      <td>France</td>\n",
       "      <td>...</td>\n",
       "      <td>14.0</td>\n",
       "      <td>20/10/2010</td>\n",
       "      <td>5.0</td>\n",
       "      <td>76.0</td>\n",
       "      <td>Minnki Pälsii</td>\n",
       "      <td>1.0</td>\n",
       "      <td>23.0</td>\n",
       "      <td>Stefanos Tsitsipas</td>\n",
       "      <td>Pälsii Sports</td>\n",
       "      <td>General Shipping</td>\n",
       "    </tr>\n",
       "  </tbody>\n",
       "</table>\n",
       "<p>5 rows × 25 columns</p>\n",
       "</div>"
      ],
      "text/plain": [
       "   PedidoID  CategoriaID  CategoriaNome CategoriaDescrição  ClienteID  \\\n",
       "0   10413.0          1.0  Men´s Clothes    Fashion for Men       41.0   \n",
       "1   10500.0          2.0    Womens wear  Fashion for Women       41.0   \n",
       "2   10832.0          2.0    Womens wear  Fashion for Women       41.0   \n",
       "3   10923.0          2.0    Womens wear  Fashion for Women       41.0   \n",
       "4   10413.0          2.0    Womens wear  Fashion for Women       41.0   \n",
       "\n",
       "             ClienteNome ClienteContato ClienteCidade ClientePaísID  \\\n",
       "0  Elle Fashion & Design    Louise Davu      Toulouse           FRA   \n",
       "1  Elle Fashion & Design    Louise Davu      Toulouse           FRA   \n",
       "2  Elle Fashion & Design    Louise Davu      Toulouse           FRA   \n",
       "3  Elle Fashion & Design    Louise Davu      Toulouse           FRA   \n",
       "4  Elle Fashion & Design    Louise Davu      Toulouse           FRA   \n",
       "\n",
       "  ClientePaís  ...  Qtde        Data  VendedorID  ProdutoID  \\\n",
       "0      France  ...  24.0  20/10/2010         5.0        1.0   \n",
       "1      France  ...  12.0  14/04/2011         5.0       15.0   \n",
       "2      France  ...  16.0  19/11/2011         5.0       44.0   \n",
       "3      France  ...  24.0  05/06/2012         4.0       67.0   \n",
       "4      France  ...  14.0  20/10/2010         5.0       76.0   \n",
       "\n",
       "           ProdutoNome  TransportadoraID FornecedorID        VendedorNome  \\\n",
       "0    Lenin Jeansshorts               1.0          1.0  Stefanos Tsitsipas   \n",
       "1       Sumi Underwear               1.0          6.0  Stefanos Tsitsipas   \n",
       "2  Okkaba Skin Jackets               1.0         20.0  Stefanos Tsitsipas   \n",
       "3              X-Dress               1.0         16.0     Patrick Mcenroe   \n",
       "4        Minnki Pälsii               1.0         23.0  Stefanos Tsitsipas   \n",
       "\n",
       "   FornecedorNome TransportadoraNome  \n",
       "0       USA Jeans   General Shipping  \n",
       "1       Surf Trip   General Shipping  \n",
       "2  Wills Surfwear   General Shipping  \n",
       "3     L.A. Sports   General Shipping  \n",
       "4   Pälsii Sports   General Shipping  \n",
       "\n",
       "[5 rows x 25 columns]"
      ]
     },
     "execution_count": 21,
     "metadata": {},
     "output_type": "execute_result"
    }
   ],
   "source": [
    "planilha_total = pd.merge(vendasglobais, vendedores, on='VendedorID')\n",
    "planilha_total = pd.merge(planilha_total, fornecedores, on='FornecedorID')\n",
    "planilha_total = pd.merge(planilha_total, transportadoras, on='TransportadoraID')\n",
    "\n",
    "planilha_total.head()"
   ]
  },
  {
   "cell_type": "code",
   "execution_count": null,
   "metadata": {},
   "outputs": [],
   "source": []
  }
 ],
 "metadata": {
  "kernelspec": {
   "display_name": "Python 3",
   "language": "python",
   "name": "python3"
  },
  "language_info": {
   "codemirror_mode": {
    "name": "ipython",
    "version": 3
   },
   "file_extension": ".py",
   "mimetype": "text/x-python",
   "name": "python",
   "nbconvert_exporter": "python",
   "pygments_lexer": "ipython3",
   "version": "3.11.4"
  }
 },
 "nbformat": 4,
 "nbformat_minor": 2
}
